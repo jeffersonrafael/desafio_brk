{
 "cells": [
  {
   "cell_type": "code",
   "execution_count": 1,
   "metadata": {},
   "outputs": [
    {
     "data": {
      "text/html": [
       "        <script type=\"text/javascript\">\n",
       "        window.PlotlyConfig = {MathJaxConfig: 'local'};\n",
       "        if (window.MathJax && window.MathJax.Hub && window.MathJax.Hub.Config) {window.MathJax.Hub.Config({SVG: {font: \"STIX-Web\"}});}\n",
       "        if (typeof require !== 'undefined') {\n",
       "        require.undef(\"plotly\");\n",
       "        requirejs.config({\n",
       "            paths: {\n",
       "                'plotly': ['https://cdn.plot.ly/plotly-2.12.1.min']\n",
       "            }\n",
       "        });\n",
       "        require(['plotly'], function(Plotly) {\n",
       "            window._Plotly = Plotly;\n",
       "        });\n",
       "        }\n",
       "        </script>\n",
       "        "
      ]
     },
     "metadata": {},
     "output_type": "display_data"
    },
    {
     "name": "stderr",
     "output_type": "stream",
     "text": [
      "C:\\Users\\wesle\\AppData\\Local\\Temp\\ipykernel_916\\3597803649.py:13: DeprecationWarning:\n",
      "\n",
      "`import pandas_profiling` is going to be deprecated by April 1st. Please use `import ydata_profiling` instead.\n",
      "\n"
     ]
    }
   ],
   "source": [
    "#-----General------#\n",
    "import pandas as pd\n",
    "pd.set_option('display.max_columns', None)\n",
    "import numpy as np\n",
    "\n",
    "#-----Plotting-----#\n",
    "import matplotlib.pyplot as plt\n",
    "import plotly.graph_objects as go\n",
    "import plotly.express as px\n",
    "import plotly.offline as py\n",
    "py.init_notebook_mode(connected=True)\n",
    "import seaborn as sns\n",
    "from pandas_profiling import ProfileReport\n",
    "import requests\n",
    "import os\n",
    "from zipfile import ZipFile\n",
    "import geopandas as gpd\n",
    "from shapely import wkt"
   ]
  },
  {
   "cell_type": "code",
   "execution_count": null,
   "metadata": {},
   "outputs": [],
   "source": [
    "# url = \"https://servicodados.ibge.gov.br/api/v3/agregados/8687/periodos/2015|2016|2017|2018|2019|2020|2021/variaveis/6843|6846?localidades=N1[all]\"\n",
    "\n",
    "# resposta = requests.get(url)\n",
    "\n",
    "# resposta.status_code\n",
    "# data = resposta.json()"
   ]
  },
  {
   "cell_type": "code",
   "execution_count": null,
   "metadata": {},
   "outputs": [],
   "source": [
    "# from urllib import request\n",
    "\n",
    "# # Link do arquivo do Google Drive\n",
    "# link = 'https://drive.google.com/file/d/1YIKb-nx0wSmWtM2s1Tw9mpQcjbkICc0n/view?usp=sharing'\n",
    "\n",
    "# # Obtendo o ID do arquivo\n",
    "# file_id = link.split('/')[-2]\n",
    "\n",
    "# # Verificando se o arquivo já existe\n",
    "# # Caso queria é só mudar o path aonde vai ser salvo o arquivo\n",
    "# file_path = 'C://Users//wesle//OneDrive//Área de Trabalho//citibike//Data//PNS_2019_20220525.zip'\n",
    "# if not os.path.isfile(file_path):\n",
    "#     # Se não existe, faça o download do arquivo\n",
    "#     url = f'https://drive.google.com/uc?id={file_id}&export=download'\n",
    "#     response = request.urlopen(url)\n",
    "#     content = response.read()\n",
    "\n",
    "#     # Salve o arquivo localmente\n",
    "#     with open(file_path, 'wb') as f:\n",
    "#         f.write(content)\n",
    "    "
   ]
  },
  {
   "cell_type": "code",
   "execution_count": null,
   "metadata": {},
   "outputs": [],
   "source": [
    "# with ZipFile(file_path) as z:\n",
    "#     with z.open(f'Focos_2022-01-01_2022-12-11.csv') as f:\n",
    "#         focos_queimadas = pd.read_csv(f,sep=',', encoding = 'utf-8')"
   ]
  },
  {
   "cell_type": "code",
   "execution_count": null,
   "metadata": {},
   "outputs": [],
   "source": [
    "# colocar aqui a lib do ibge para o tratamento dos dados, ou tem a opção de fazer em R \n",
    "# o que eu particularmente acho mais facil"
   ]
  },
  {
   "cell_type": "code",
   "execution_count": 11,
   "metadata": {},
   "outputs": [],
   "source": [
    "dados1 = pd.read_csv(\"../Data/selesan_dez_2022.csv\", sep=\";\", encoding= 'ISO-8859-1')\n",
    "# dados2 = pd.read_csv(\"../Data/SDG 6.csv\")\n",
    "dados3 = pd.read_csv(\"../Data/20220601_trecho_rede_agua.csv\", sep=\",\", encoding= 'ISO-8859-1')\n",
    "dados4 = pd.read_csv(\"../Data/20230801_trecho_rede_agua.csv\", sep=\";\", encoding= 'ISO-8859-1')"
   ]
  },
  {
   "cell_type": "code",
   "execution_count": 18,
   "metadata": {},
   "outputs": [
    {
     "name": "stdout",
     "output_type": "stream",
     "text": [
      "<class 'pandas.core.frame.DataFrame'>\n",
      "RangeIndex: 800 entries, 0 to 799\n",
      "Data columns (total 13 columns):\n",
      " #   Column                         Non-Null Count  Dtype \n",
      "---  ------                         --------------  ----- \n",
      " 0   dsc_titulo_chamada             800 non-null    object\n",
      " 1   dsc_status                     800 non-null    object\n",
      " 2   carta_txt_num_protocolo        800 non-null    object\n",
      " 3   carta_dsc_modalidade           800 non-null    object\n",
      " 4   carta_txt_sigla_uf             800 non-null    object\n",
      " 5   carta_txt_municipio            800 non-null    object\n",
      " 6   carta_dsc_agente_financeiro    800 non-null    object\n",
      " 7   carta_nome_proponente          800 non-null    object\n",
      " 8   carta_tipo_proponente          800 non-null    object\n",
      " 9   carta_txt_nome_empreendimento  800 non-null    object\n",
      " 10  carta_vlr_contrapartida        800 non-null    object\n",
      " 11  carta_vlr_emprestimo           800 non-null    object\n",
      " 12  carta_vlr_investimento         800 non-null    object\n",
      "dtypes: object(13)\n",
      "memory usage: 81.4+ KB\n"
     ]
    }
   ],
   "source": [
    "dados1.info()"
   ]
  },
  {
   "cell_type": "code",
   "execution_count": 17,
   "metadata": {},
   "outputs": [
    {
     "data": {
      "application/vnd.plotly.v1+json": {
       "config": {
        "plotlyServerURL": "https://plot.ly"
       },
       "data": [
        {
         "alignmentgroup": "True",
         "bingroup": "x",
         "hovertemplate": "carta_txt_sigla_uf=%{x}<br>count=%{y}<extra></extra>",
         "legendgroup": "",
         "marker": {
          "color": "#636efa",
          "pattern": {
           "shape": ""
          }
         },
         "name": "",
         "offsetgroup": "",
         "orientation": "v",
         "showlegend": false,
         "type": "histogram",
         "x": [
          "SP",
          "MG",
          "SP",
          "MS",
          "SP",
          "SC",
          "SP",
          "PB",
          "SP",
          "PR",
          "MG",
          "PI",
          "SP",
          "MG",
          "PA",
          "PA",
          "SP",
          "SP",
          "MS",
          "MG",
          "MS",
          "SP",
          "MG",
          "MG",
          "MG",
          "PA",
          "CE",
          "MG",
          "SP",
          "PA",
          "MG",
          "SP",
          "ES",
          "MS",
          "MS",
          "SP",
          "MS",
          "SC",
          "PE",
          "SC",
          "SC",
          "SP",
          "MG",
          "RS",
          "MS",
          "MS",
          "MS",
          "CE",
          "MS",
          "PA",
          "CE",
          "CE",
          "MS",
          "SP",
          "MS",
          "MS",
          "MS",
          "CE",
          "CE",
          "MS",
          "MS",
          "CE",
          "MG",
          "MS",
          "CE",
          "MT",
          "MG",
          "SP",
          "MS",
          "SP",
          "MS",
          "MT",
          "MS",
          "MG",
          "MS",
          "MS",
          "SP",
          "SP",
          "CE",
          "MS",
          "CE",
          "CE",
          "MS",
          "SP",
          "CE",
          "CE",
          "CE",
          "SP",
          "MS",
          "MS",
          "MG",
          "MG",
          "MS",
          "MS",
          "PE",
          "PE",
          "PE",
          "MS",
          "MG",
          "MS",
          "SC",
          "MG",
          "MS",
          "MS",
          "SP",
          "PE",
          "SP",
          "PE",
          "PA",
          "PA",
          "MG",
          "RS",
          "RS",
          "MG",
          "PA",
          "PA",
          "SP",
          "MG",
          "SP",
          "GO",
          "SP",
          "MG",
          "MG",
          "MG",
          "MG",
          "MG",
          "PA",
          "PA",
          "PA",
          "PA",
          "RS",
          "MG",
          "SP",
          "MG",
          "MG",
          "MG",
          "MG",
          "SP",
          "SP",
          "MG",
          "MG",
          "MG",
          "MG",
          "SP",
          "SP",
          "MG",
          "MG",
          "MG",
          "MG",
          "MG",
          "BA",
          "RS",
          "RS",
          "RJ",
          "SP",
          "RS",
          "SC",
          "MT",
          "RJ",
          "SP",
          "SP",
          "SP",
          "GO",
          "SP",
          "SP",
          "GO",
          "RS",
          "PE",
          "PE",
          "PE",
          "MT",
          "SP",
          "GO",
          "RS",
          "AC",
          "GO",
          "PR",
          "PA",
          "PA",
          "PA",
          "PA",
          "PA",
          "MS",
          "ES",
          "MG",
          "MS",
          "SP",
          "GO",
          "SP",
          "GO",
          "SP",
          "MG",
          "RS",
          "PE",
          "PR",
          "SP",
          "ES",
          "MT",
          "SP",
          "ES",
          "SC",
          "SC",
          "MG",
          "SP",
          "MG",
          "SP",
          "ES",
          "PR",
          "PI",
          "SP",
          "SP",
          "RN",
          "MG",
          "MG",
          "RN",
          "SP",
          "SP",
          "SP",
          "SP",
          "SP",
          "PR",
          "SC",
          "SP",
          "SP",
          "BA",
          "SP",
          "SP",
          "SP",
          "SP",
          "SC",
          "MG",
          "BA",
          "RS",
          "MG",
          "ES",
          "SP",
          "SP",
          "MG",
          "SP",
          "SP",
          "MT",
          "BA",
          "MG",
          "MG",
          "ES",
          "RN",
          "RN",
          "RJ",
          "RN",
          "PE",
          "MG",
          "SP",
          "SP",
          "PR",
          "SP",
          "MT",
          "MS",
          "RS",
          "SP",
          "SP",
          "MT",
          "CE",
          "CE",
          "MG",
          "SP",
          "MG",
          "MG",
          "SP",
          "SC",
          "SC",
          "SP",
          "CE",
          "MG",
          "MG",
          "MG",
          "MG",
          "MG",
          "MG",
          "PR",
          "GO",
          "SP",
          "PR",
          "PB",
          "PB",
          "SP",
          "PB",
          "RJ",
          "SC",
          "MG",
          "BA",
          "RS",
          "MG",
          "CE",
          "CE",
          "MG",
          "GO",
          "SP",
          "MG",
          "PI",
          "PI",
          "SP",
          "SP",
          "RJ",
          "RJ",
          "GO",
          "SP",
          "CE",
          "RS",
          "PR",
          "PE",
          "RS",
          "PR",
          "PR",
          "PR",
          "PR",
          "RS",
          "PR",
          "RS",
          "RS",
          "MG",
          "SP",
          "PR",
          "PR",
          "PR",
          "PR",
          "PR",
          "PR",
          "PR",
          "PR",
          "PR",
          "RS",
          "PR",
          "PR",
          "PR",
          "PE",
          "PR",
          "PR",
          "PR",
          "PR",
          "RS",
          "PR",
          "PE",
          "RS",
          "RS",
          "PE",
          "RS",
          "RJ",
          "RJ",
          "SP",
          "SP",
          "SP",
          "SP",
          "SP",
          "SP",
          "SP",
          "SP",
          "RS",
          "SP",
          "BA",
          "CE",
          "PR",
          "CE",
          "RS",
          "SP",
          "SP",
          "RS",
          "SP",
          "PR",
          "SP",
          "PR",
          "MG",
          "PR",
          "SP",
          "PR",
          "CE",
          "SP",
          "SP",
          "RS",
          "RO",
          "MG",
          "BA",
          "SP",
          "PR",
          "CE",
          "RJ",
          "RS",
          "PE",
          "SP",
          "MT",
          "CE",
          "SP",
          "SE",
          "BA",
          "GO",
          "SP",
          "GO",
          "RS",
          "RS",
          "SP",
          "SP",
          "SP",
          "RS",
          "SP",
          "PR",
          "RS",
          "PE",
          "MG",
          "PE",
          "PE",
          "RO",
          "SP",
          "RO",
          "PE",
          "PE",
          "RO",
          "GO",
          "PE",
          "PE",
          "MG",
          "SP",
          "SP",
          "GO",
          "SP",
          "AL",
          "SP",
          "SC",
          "SP",
          "SP",
          "MG",
          "SP",
          "SC",
          "AL",
          "RS",
          "GO",
          "SP",
          "RS",
          "PR",
          "RS",
          "RO",
          "SC",
          "MG",
          "CE",
          "MG",
          "SP",
          "CE",
          "CE",
          "MG",
          "SP",
          "SP",
          "SP",
          "RS",
          "ES",
          "MG",
          "SP",
          "CE",
          "SP",
          "SP",
          "MG",
          "MG",
          "MG",
          "PR",
          "SP",
          "SP",
          "SP",
          "BA",
          "SP",
          "PE",
          "CE",
          "PE",
          "RO",
          "SP",
          "SP",
          "SP",
          "RS",
          "SP",
          "SP",
          "PE",
          "SP",
          "RS",
          "RO",
          "GO",
          "GO",
          "GO",
          "RS",
          "GO",
          "MG",
          "MG",
          "RO",
          "RS",
          "MG",
          "PR",
          "RO",
          "SP",
          "SP",
          "CE",
          "SP",
          "SP",
          "SP",
          "SP",
          "RS",
          "SP",
          "SP",
          "PR",
          "SC",
          "SP",
          "SP",
          "SP",
          "SP",
          "SP",
          "SP",
          "SP",
          "SP",
          "SP",
          "MG",
          "MT",
          "RS",
          "RS",
          "RS",
          "RS",
          "RS",
          "RS",
          "RS",
          "RS",
          "RS",
          "PR",
          "RS",
          "PA",
          "PR",
          "PR",
          "PR",
          "BA",
          "SP",
          "SP",
          "SP",
          "MG",
          "RS",
          "SP",
          "SP",
          "PR",
          "MG",
          "SP",
          "SP",
          "PR",
          "SP",
          "SP",
          "SP",
          "SP",
          "SC",
          "RS",
          "SP",
          "MS",
          "BA",
          "BA",
          "BA",
          "BA",
          "BA",
          "GO",
          "GO",
          "SC",
          "BA",
          "BA",
          "PR",
          "BA",
          "SP",
          "PR",
          "PR",
          "SC",
          "PR",
          "PR",
          "PR",
          "PR",
          "MG",
          "CE",
          "SP",
          "SP",
          "SP",
          "SP",
          "PR",
          "SP",
          "CE",
          "MG",
          "SC",
          "RS",
          "MG",
          "PI",
          "SP",
          "SP",
          "SP",
          "SP",
          "PR",
          "SP",
          "SP",
          "SC",
          "RS",
          "MT",
          "SP",
          "PR",
          "RS",
          "SP",
          "SP",
          "MG",
          "SP",
          "SP",
          "SP",
          "BA",
          "MG",
          "GO",
          "SP",
          "ES",
          "MG",
          "PB",
          "BA",
          "SP",
          "SC",
          "BA",
          "MS",
          "RS",
          "SC",
          "PR",
          "SP",
          "SP",
          "SP",
          "SP",
          "PR",
          "BA",
          "SP",
          "SP",
          "RS",
          "MT",
          "SC",
          "PE",
          "CE",
          "SC",
          "SP",
          "ES",
          "SP",
          "MG",
          "SP",
          "RS",
          "RS",
          "SP",
          "BA",
          "RS",
          "RS",
          "MG",
          "SP",
          "SP",
          "SC",
          "MG",
          "SC",
          "SP",
          "SC",
          "PR",
          "SP",
          "MT",
          "SC",
          "MG",
          "MG",
          "SP",
          "RS",
          "MT",
          "MG",
          "MG",
          "SP",
          "MG",
          "BA",
          "CE",
          "SP",
          "RS",
          "RS",
          "BA",
          "MG",
          "MG",
          "SP",
          "BA",
          "BA",
          "BA",
          "BA",
          "RJ",
          "RS",
          "MG",
          "RS",
          "RS",
          "MG",
          "RS",
          "RS",
          "RS",
          "MT",
          "PR",
          "SP",
          "RS",
          "RS",
          "MG",
          "MG",
          "GO",
          "SP",
          "BA",
          "MG",
          "ES",
          "GO",
          "MG",
          "GO",
          "RJ",
          "MG",
          "MG",
          "PR",
          "MG",
          "MG",
          "MG",
          "RJ",
          "BA",
          "BA",
          "BA",
          "SC",
          "RS",
          "MG",
          "GO",
          "ES",
          "RS",
          "RS",
          "RS",
          "SC",
          "RS",
          "GO",
          "MG",
          "MG",
          "RS",
          "BA",
          "BA",
          "BA",
          "SP",
          "RJ",
          "SP",
          "RS",
          "SP",
          "RS",
          "RS",
          "RS",
          "RS",
          "RS",
          "MT",
          "MG",
          "SC",
          "RS",
          "PR",
          "GO",
          "SP",
          "SP",
          "PR",
          "PR",
          "PR",
          "RS",
          "RS",
          "SP",
          "MG",
          "SP",
          "MG",
          "BA",
          "SP",
          "GO",
          "PR",
          "PR",
          "PR",
          "PR",
          "PR",
          "PR",
          "PR",
          "PR",
          "PR",
          "PR",
          "PR",
          "PR",
          "PR",
          "PR",
          "PR",
          "PR",
          "MS",
          "PR",
          "PR",
          "PR",
          "MG",
          "PR",
          "PR",
          "PR",
          "PR",
          "MG",
          "SP",
          "MG",
          "PR",
          "PR",
          "PR",
          "PR",
          "MG",
          "MT",
          "SP",
          "PR",
          "SP",
          "MG",
          "SP",
          "PR"
         ],
         "xaxis": "x",
         "yaxis": "y"
        }
       ],
       "layout": {
        "barmode": "group",
        "legend": {
         "tracegroupgap": 0
        },
        "margin": {
         "t": 60
        },
        "template": {
         "data": {
          "bar": [
           {
            "error_x": {
             "color": "#2a3f5f"
            },
            "error_y": {
             "color": "#2a3f5f"
            },
            "marker": {
             "line": {
              "color": "#E5ECF6",
              "width": 0.5
             },
             "pattern": {
              "fillmode": "overlay",
              "size": 10,
              "solidity": 0.2
             }
            },
            "type": "bar"
           }
          ],
          "barpolar": [
           {
            "marker": {
             "line": {
              "color": "#E5ECF6",
              "width": 0.5
             },
             "pattern": {
              "fillmode": "overlay",
              "size": 10,
              "solidity": 0.2
             }
            },
            "type": "barpolar"
           }
          ],
          "carpet": [
           {
            "aaxis": {
             "endlinecolor": "#2a3f5f",
             "gridcolor": "white",
             "linecolor": "white",
             "minorgridcolor": "white",
             "startlinecolor": "#2a3f5f"
            },
            "baxis": {
             "endlinecolor": "#2a3f5f",
             "gridcolor": "white",
             "linecolor": "white",
             "minorgridcolor": "white",
             "startlinecolor": "#2a3f5f"
            },
            "type": "carpet"
           }
          ],
          "choropleth": [
           {
            "colorbar": {
             "outlinewidth": 0,
             "ticks": ""
            },
            "type": "choropleth"
           }
          ],
          "contour": [
           {
            "colorbar": {
             "outlinewidth": 0,
             "ticks": ""
            },
            "colorscale": [
             [
              0,
              "#0d0887"
             ],
             [
              0.1111111111111111,
              "#46039f"
             ],
             [
              0.2222222222222222,
              "#7201a8"
             ],
             [
              0.3333333333333333,
              "#9c179e"
             ],
             [
              0.4444444444444444,
              "#bd3786"
             ],
             [
              0.5555555555555556,
              "#d8576b"
             ],
             [
              0.6666666666666666,
              "#ed7953"
             ],
             [
              0.7777777777777778,
              "#fb9f3a"
             ],
             [
              0.8888888888888888,
              "#fdca26"
             ],
             [
              1,
              "#f0f921"
             ]
            ],
            "type": "contour"
           }
          ],
          "contourcarpet": [
           {
            "colorbar": {
             "outlinewidth": 0,
             "ticks": ""
            },
            "type": "contourcarpet"
           }
          ],
          "heatmap": [
           {
            "colorbar": {
             "outlinewidth": 0,
             "ticks": ""
            },
            "colorscale": [
             [
              0,
              "#0d0887"
             ],
             [
              0.1111111111111111,
              "#46039f"
             ],
             [
              0.2222222222222222,
              "#7201a8"
             ],
             [
              0.3333333333333333,
              "#9c179e"
             ],
             [
              0.4444444444444444,
              "#bd3786"
             ],
             [
              0.5555555555555556,
              "#d8576b"
             ],
             [
              0.6666666666666666,
              "#ed7953"
             ],
             [
              0.7777777777777778,
              "#fb9f3a"
             ],
             [
              0.8888888888888888,
              "#fdca26"
             ],
             [
              1,
              "#f0f921"
             ]
            ],
            "type": "heatmap"
           }
          ],
          "heatmapgl": [
           {
            "colorbar": {
             "outlinewidth": 0,
             "ticks": ""
            },
            "colorscale": [
             [
              0,
              "#0d0887"
             ],
             [
              0.1111111111111111,
              "#46039f"
             ],
             [
              0.2222222222222222,
              "#7201a8"
             ],
             [
              0.3333333333333333,
              "#9c179e"
             ],
             [
              0.4444444444444444,
              "#bd3786"
             ],
             [
              0.5555555555555556,
              "#d8576b"
             ],
             [
              0.6666666666666666,
              "#ed7953"
             ],
             [
              0.7777777777777778,
              "#fb9f3a"
             ],
             [
              0.8888888888888888,
              "#fdca26"
             ],
             [
              1,
              "#f0f921"
             ]
            ],
            "type": "heatmapgl"
           }
          ],
          "histogram": [
           {
            "marker": {
             "pattern": {
              "fillmode": "overlay",
              "size": 10,
              "solidity": 0.2
             }
            },
            "type": "histogram"
           }
          ],
          "histogram2d": [
           {
            "colorbar": {
             "outlinewidth": 0,
             "ticks": ""
            },
            "colorscale": [
             [
              0,
              "#0d0887"
             ],
             [
              0.1111111111111111,
              "#46039f"
             ],
             [
              0.2222222222222222,
              "#7201a8"
             ],
             [
              0.3333333333333333,
              "#9c179e"
             ],
             [
              0.4444444444444444,
              "#bd3786"
             ],
             [
              0.5555555555555556,
              "#d8576b"
             ],
             [
              0.6666666666666666,
              "#ed7953"
             ],
             [
              0.7777777777777778,
              "#fb9f3a"
             ],
             [
              0.8888888888888888,
              "#fdca26"
             ],
             [
              1,
              "#f0f921"
             ]
            ],
            "type": "histogram2d"
           }
          ],
          "histogram2dcontour": [
           {
            "colorbar": {
             "outlinewidth": 0,
             "ticks": ""
            },
            "colorscale": [
             [
              0,
              "#0d0887"
             ],
             [
              0.1111111111111111,
              "#46039f"
             ],
             [
              0.2222222222222222,
              "#7201a8"
             ],
             [
              0.3333333333333333,
              "#9c179e"
             ],
             [
              0.4444444444444444,
              "#bd3786"
             ],
             [
              0.5555555555555556,
              "#d8576b"
             ],
             [
              0.6666666666666666,
              "#ed7953"
             ],
             [
              0.7777777777777778,
              "#fb9f3a"
             ],
             [
              0.8888888888888888,
              "#fdca26"
             ],
             [
              1,
              "#f0f921"
             ]
            ],
            "type": "histogram2dcontour"
           }
          ],
          "mesh3d": [
           {
            "colorbar": {
             "outlinewidth": 0,
             "ticks": ""
            },
            "type": "mesh3d"
           }
          ],
          "parcoords": [
           {
            "line": {
             "colorbar": {
              "outlinewidth": 0,
              "ticks": ""
             }
            },
            "type": "parcoords"
           }
          ],
          "pie": [
           {
            "automargin": true,
            "type": "pie"
           }
          ],
          "scatter": [
           {
            "fillpattern": {
             "fillmode": "overlay",
             "size": 10,
             "solidity": 0.2
            },
            "type": "scatter"
           }
          ],
          "scatter3d": [
           {
            "line": {
             "colorbar": {
              "outlinewidth": 0,
              "ticks": ""
             }
            },
            "marker": {
             "colorbar": {
              "outlinewidth": 0,
              "ticks": ""
             }
            },
            "type": "scatter3d"
           }
          ],
          "scattercarpet": [
           {
            "marker": {
             "colorbar": {
              "outlinewidth": 0,
              "ticks": ""
             }
            },
            "type": "scattercarpet"
           }
          ],
          "scattergeo": [
           {
            "marker": {
             "colorbar": {
              "outlinewidth": 0,
              "ticks": ""
             }
            },
            "type": "scattergeo"
           }
          ],
          "scattergl": [
           {
            "marker": {
             "colorbar": {
              "outlinewidth": 0,
              "ticks": ""
             }
            },
            "type": "scattergl"
           }
          ],
          "scattermapbox": [
           {
            "marker": {
             "colorbar": {
              "outlinewidth": 0,
              "ticks": ""
             }
            },
            "type": "scattermapbox"
           }
          ],
          "scatterpolar": [
           {
            "marker": {
             "colorbar": {
              "outlinewidth": 0,
              "ticks": ""
             }
            },
            "type": "scatterpolar"
           }
          ],
          "scatterpolargl": [
           {
            "marker": {
             "colorbar": {
              "outlinewidth": 0,
              "ticks": ""
             }
            },
            "type": "scatterpolargl"
           }
          ],
          "scatterternary": [
           {
            "marker": {
             "colorbar": {
              "outlinewidth": 0,
              "ticks": ""
             }
            },
            "type": "scatterternary"
           }
          ],
          "surface": [
           {
            "colorbar": {
             "outlinewidth": 0,
             "ticks": ""
            },
            "colorscale": [
             [
              0,
              "#0d0887"
             ],
             [
              0.1111111111111111,
              "#46039f"
             ],
             [
              0.2222222222222222,
              "#7201a8"
             ],
             [
              0.3333333333333333,
              "#9c179e"
             ],
             [
              0.4444444444444444,
              "#bd3786"
             ],
             [
              0.5555555555555556,
              "#d8576b"
             ],
             [
              0.6666666666666666,
              "#ed7953"
             ],
             [
              0.7777777777777778,
              "#fb9f3a"
             ],
             [
              0.8888888888888888,
              "#fdca26"
             ],
             [
              1,
              "#f0f921"
             ]
            ],
            "type": "surface"
           }
          ],
          "table": [
           {
            "cells": {
             "fill": {
              "color": "#EBF0F8"
             },
             "line": {
              "color": "white"
             }
            },
            "header": {
             "fill": {
              "color": "#C8D4E3"
             },
             "line": {
              "color": "white"
             }
            },
            "type": "table"
           }
          ]
         },
         "layout": {
          "annotationdefaults": {
           "arrowcolor": "#2a3f5f",
           "arrowhead": 0,
           "arrowwidth": 1
          },
          "autotypenumbers": "strict",
          "coloraxis": {
           "colorbar": {
            "outlinewidth": 0,
            "ticks": ""
           }
          },
          "colorscale": {
           "diverging": [
            [
             0,
             "#8e0152"
            ],
            [
             0.1,
             "#c51b7d"
            ],
            [
             0.2,
             "#de77ae"
            ],
            [
             0.3,
             "#f1b6da"
            ],
            [
             0.4,
             "#fde0ef"
            ],
            [
             0.5,
             "#f7f7f7"
            ],
            [
             0.6,
             "#e6f5d0"
            ],
            [
             0.7,
             "#b8e186"
            ],
            [
             0.8,
             "#7fbc41"
            ],
            [
             0.9,
             "#4d9221"
            ],
            [
             1,
             "#276419"
            ]
           ],
           "sequential": [
            [
             0,
             "#0d0887"
            ],
            [
             0.1111111111111111,
             "#46039f"
            ],
            [
             0.2222222222222222,
             "#7201a8"
            ],
            [
             0.3333333333333333,
             "#9c179e"
            ],
            [
             0.4444444444444444,
             "#bd3786"
            ],
            [
             0.5555555555555556,
             "#d8576b"
            ],
            [
             0.6666666666666666,
             "#ed7953"
            ],
            [
             0.7777777777777778,
             "#fb9f3a"
            ],
            [
             0.8888888888888888,
             "#fdca26"
            ],
            [
             1,
             "#f0f921"
            ]
           ],
           "sequentialminus": [
            [
             0,
             "#0d0887"
            ],
            [
             0.1111111111111111,
             "#46039f"
            ],
            [
             0.2222222222222222,
             "#7201a8"
            ],
            [
             0.3333333333333333,
             "#9c179e"
            ],
            [
             0.4444444444444444,
             "#bd3786"
            ],
            [
             0.5555555555555556,
             "#d8576b"
            ],
            [
             0.6666666666666666,
             "#ed7953"
            ],
            [
             0.7777777777777778,
             "#fb9f3a"
            ],
            [
             0.8888888888888888,
             "#fdca26"
            ],
            [
             1,
             "#f0f921"
            ]
           ]
          },
          "colorway": [
           "#636efa",
           "#EF553B",
           "#00cc96",
           "#ab63fa",
           "#FFA15A",
           "#19d3f3",
           "#FF6692",
           "#B6E880",
           "#FF97FF",
           "#FECB52"
          ],
          "font": {
           "color": "#2a3f5f"
          },
          "geo": {
           "bgcolor": "white",
           "lakecolor": "white",
           "landcolor": "#E5ECF6",
           "showlakes": true,
           "showland": true,
           "subunitcolor": "white"
          },
          "hoverlabel": {
           "align": "left"
          },
          "hovermode": "closest",
          "mapbox": {
           "style": "light"
          },
          "paper_bgcolor": "white",
          "plot_bgcolor": "#E5ECF6",
          "polar": {
           "angularaxis": {
            "gridcolor": "white",
            "linecolor": "white",
            "ticks": ""
           },
           "bgcolor": "#E5ECF6",
           "radialaxis": {
            "gridcolor": "white",
            "linecolor": "white",
            "ticks": ""
           }
          },
          "scene": {
           "xaxis": {
            "backgroundcolor": "#E5ECF6",
            "gridcolor": "white",
            "gridwidth": 2,
            "linecolor": "white",
            "showbackground": true,
            "ticks": "",
            "zerolinecolor": "white"
           },
           "yaxis": {
            "backgroundcolor": "#E5ECF6",
            "gridcolor": "white",
            "gridwidth": 2,
            "linecolor": "white",
            "showbackground": true,
            "ticks": "",
            "zerolinecolor": "white"
           },
           "zaxis": {
            "backgroundcolor": "#E5ECF6",
            "gridcolor": "white",
            "gridwidth": 2,
            "linecolor": "white",
            "showbackground": true,
            "ticks": "",
            "zerolinecolor": "white"
           }
          },
          "shapedefaults": {
           "line": {
            "color": "#2a3f5f"
           }
          },
          "ternary": {
           "aaxis": {
            "gridcolor": "white",
            "linecolor": "white",
            "ticks": ""
           },
           "baxis": {
            "gridcolor": "white",
            "linecolor": "white",
            "ticks": ""
           },
           "bgcolor": "#E5ECF6",
           "caxis": {
            "gridcolor": "white",
            "linecolor": "white",
            "ticks": ""
           }
          },
          "title": {
           "x": 0.05
          },
          "xaxis": {
           "automargin": true,
           "gridcolor": "white",
           "linecolor": "white",
           "ticks": "",
           "title": {
            "standoff": 15
           },
           "zerolinecolor": "white",
           "zerolinewidth": 2
          },
          "yaxis": {
           "automargin": true,
           "gridcolor": "white",
           "linecolor": "white",
           "ticks": "",
           "title": {
            "standoff": 15
           },
           "zerolinecolor": "white",
           "zerolinewidth": 2
          }
         }
        },
        "xaxis": {
         "anchor": "y",
         "domain": [
          0,
          1
         ],
         "title": {
          "text": "carta_txt_sigla_uf"
         }
        },
        "yaxis": {
         "anchor": "x",
         "domain": [
          0,
          1
         ],
         "title": {
          "text": "count"
         }
        }
       }
      },
      "text/html": [
       "<div>                            <div id=\"951c98c5-0b2a-4e95-815b-dda6a8c2258f\" class=\"plotly-graph-div\" style=\"height:525px; width:100%;\"></div>            <script type=\"text/javascript\">                require([\"plotly\"], function(Plotly) {                    window.PLOTLYENV=window.PLOTLYENV || {};                                    if (document.getElementById(\"951c98c5-0b2a-4e95-815b-dda6a8c2258f\")) {                    Plotly.newPlot(                        \"951c98c5-0b2a-4e95-815b-dda6a8c2258f\",                        [{\"alignmentgroup\":\"True\",\"bingroup\":\"x\",\"hovertemplate\":\"carta_txt_sigla_uf=%{x}<br>count=%{y}<extra></extra>\",\"legendgroup\":\"\",\"marker\":{\"color\":\"#636efa\",\"pattern\":{\"shape\":\"\"}},\"name\":\"\",\"offsetgroup\":\"\",\"orientation\":\"v\",\"showlegend\":false,\"x\":[\"SP\",\"MG\",\"SP\",\"MS\",\"SP\",\"SC\",\"SP\",\"PB\",\"SP\",\"PR\",\"MG\",\"PI\",\"SP\",\"MG\",\"PA\",\"PA\",\"SP\",\"SP\",\"MS\",\"MG\",\"MS\",\"SP\",\"MG\",\"MG\",\"MG\",\"PA\",\"CE\",\"MG\",\"SP\",\"PA\",\"MG\",\"SP\",\"ES\",\"MS\",\"MS\",\"SP\",\"MS\",\"SC\",\"PE\",\"SC\",\"SC\",\"SP\",\"MG\",\"RS\",\"MS\",\"MS\",\"MS\",\"CE\",\"MS\",\"PA\",\"CE\",\"CE\",\"MS\",\"SP\",\"MS\",\"MS\",\"MS\",\"CE\",\"CE\",\"MS\",\"MS\",\"CE\",\"MG\",\"MS\",\"CE\",\"MT\",\"MG\",\"SP\",\"MS\",\"SP\",\"MS\",\"MT\",\"MS\",\"MG\",\"MS\",\"MS\",\"SP\",\"SP\",\"CE\",\"MS\",\"CE\",\"CE\",\"MS\",\"SP\",\"CE\",\"CE\",\"CE\",\"SP\",\"MS\",\"MS\",\"MG\",\"MG\",\"MS\",\"MS\",\"PE\",\"PE\",\"PE\",\"MS\",\"MG\",\"MS\",\"SC\",\"MG\",\"MS\",\"MS\",\"SP\",\"PE\",\"SP\",\"PE\",\"PA\",\"PA\",\"MG\",\"RS\",\"RS\",\"MG\",\"PA\",\"PA\",\"SP\",\"MG\",\"SP\",\"GO\",\"SP\",\"MG\",\"MG\",\"MG\",\"MG\",\"MG\",\"PA\",\"PA\",\"PA\",\"PA\",\"RS\",\"MG\",\"SP\",\"MG\",\"MG\",\"MG\",\"MG\",\"SP\",\"SP\",\"MG\",\"MG\",\"MG\",\"MG\",\"SP\",\"SP\",\"MG\",\"MG\",\"MG\",\"MG\",\"MG\",\"BA\",\"RS\",\"RS\",\"RJ\",\"SP\",\"RS\",\"SC\",\"MT\",\"RJ\",\"SP\",\"SP\",\"SP\",\"GO\",\"SP\",\"SP\",\"GO\",\"RS\",\"PE\",\"PE\",\"PE\",\"MT\",\"SP\",\"GO\",\"RS\",\"AC\",\"GO\",\"PR\",\"PA\",\"PA\",\"PA\",\"PA\",\"PA\",\"MS\",\"ES\",\"MG\",\"MS\",\"SP\",\"GO\",\"SP\",\"GO\",\"SP\",\"MG\",\"RS\",\"PE\",\"PR\",\"SP\",\"ES\",\"MT\",\"SP\",\"ES\",\"SC\",\"SC\",\"MG\",\"SP\",\"MG\",\"SP\",\"ES\",\"PR\",\"PI\",\"SP\",\"SP\",\"RN\",\"MG\",\"MG\",\"RN\",\"SP\",\"SP\",\"SP\",\"SP\",\"SP\",\"PR\",\"SC\",\"SP\",\"SP\",\"BA\",\"SP\",\"SP\",\"SP\",\"SP\",\"SC\",\"MG\",\"BA\",\"RS\",\"MG\",\"ES\",\"SP\",\"SP\",\"MG\",\"SP\",\"SP\",\"MT\",\"BA\",\"MG\",\"MG\",\"ES\",\"RN\",\"RN\",\"RJ\",\"RN\",\"PE\",\"MG\",\"SP\",\"SP\",\"PR\",\"SP\",\"MT\",\"MS\",\"RS\",\"SP\",\"SP\",\"MT\",\"CE\",\"CE\",\"MG\",\"SP\",\"MG\",\"MG\",\"SP\",\"SC\",\"SC\",\"SP\",\"CE\",\"MG\",\"MG\",\"MG\",\"MG\",\"MG\",\"MG\",\"PR\",\"GO\",\"SP\",\"PR\",\"PB\",\"PB\",\"SP\",\"PB\",\"RJ\",\"SC\",\"MG\",\"BA\",\"RS\",\"MG\",\"CE\",\"CE\",\"MG\",\"GO\",\"SP\",\"MG\",\"PI\",\"PI\",\"SP\",\"SP\",\"RJ\",\"RJ\",\"GO\",\"SP\",\"CE\",\"RS\",\"PR\",\"PE\",\"RS\",\"PR\",\"PR\",\"PR\",\"PR\",\"RS\",\"PR\",\"RS\",\"RS\",\"MG\",\"SP\",\"PR\",\"PR\",\"PR\",\"PR\",\"PR\",\"PR\",\"PR\",\"PR\",\"PR\",\"RS\",\"PR\",\"PR\",\"PR\",\"PE\",\"PR\",\"PR\",\"PR\",\"PR\",\"RS\",\"PR\",\"PE\",\"RS\",\"RS\",\"PE\",\"RS\",\"RJ\",\"RJ\",\"SP\",\"SP\",\"SP\",\"SP\",\"SP\",\"SP\",\"SP\",\"SP\",\"RS\",\"SP\",\"BA\",\"CE\",\"PR\",\"CE\",\"RS\",\"SP\",\"SP\",\"RS\",\"SP\",\"PR\",\"SP\",\"PR\",\"MG\",\"PR\",\"SP\",\"PR\",\"CE\",\"SP\",\"SP\",\"RS\",\"RO\",\"MG\",\"BA\",\"SP\",\"PR\",\"CE\",\"RJ\",\"RS\",\"PE\",\"SP\",\"MT\",\"CE\",\"SP\",\"SE\",\"BA\",\"GO\",\"SP\",\"GO\",\"RS\",\"RS\",\"SP\",\"SP\",\"SP\",\"RS\",\"SP\",\"PR\",\"RS\",\"PE\",\"MG\",\"PE\",\"PE\",\"RO\",\"SP\",\"RO\",\"PE\",\"PE\",\"RO\",\"GO\",\"PE\",\"PE\",\"MG\",\"SP\",\"SP\",\"GO\",\"SP\",\"AL\",\"SP\",\"SC\",\"SP\",\"SP\",\"MG\",\"SP\",\"SC\",\"AL\",\"RS\",\"GO\",\"SP\",\"RS\",\"PR\",\"RS\",\"RO\",\"SC\",\"MG\",\"CE\",\"MG\",\"SP\",\"CE\",\"CE\",\"MG\",\"SP\",\"SP\",\"SP\",\"RS\",\"ES\",\"MG\",\"SP\",\"CE\",\"SP\",\"SP\",\"MG\",\"MG\",\"MG\",\"PR\",\"SP\",\"SP\",\"SP\",\"BA\",\"SP\",\"PE\",\"CE\",\"PE\",\"RO\",\"SP\",\"SP\",\"SP\",\"RS\",\"SP\",\"SP\",\"PE\",\"SP\",\"RS\",\"RO\",\"GO\",\"GO\",\"GO\",\"RS\",\"GO\",\"MG\",\"MG\",\"RO\",\"RS\",\"MG\",\"PR\",\"RO\",\"SP\",\"SP\",\"CE\",\"SP\",\"SP\",\"SP\",\"SP\",\"RS\",\"SP\",\"SP\",\"PR\",\"SC\",\"SP\",\"SP\",\"SP\",\"SP\",\"SP\",\"SP\",\"SP\",\"SP\",\"SP\",\"MG\",\"MT\",\"RS\",\"RS\",\"RS\",\"RS\",\"RS\",\"RS\",\"RS\",\"RS\",\"RS\",\"PR\",\"RS\",\"PA\",\"PR\",\"PR\",\"PR\",\"BA\",\"SP\",\"SP\",\"SP\",\"MG\",\"RS\",\"SP\",\"SP\",\"PR\",\"MG\",\"SP\",\"SP\",\"PR\",\"SP\",\"SP\",\"SP\",\"SP\",\"SC\",\"RS\",\"SP\",\"MS\",\"BA\",\"BA\",\"BA\",\"BA\",\"BA\",\"GO\",\"GO\",\"SC\",\"BA\",\"BA\",\"PR\",\"BA\",\"SP\",\"PR\",\"PR\",\"SC\",\"PR\",\"PR\",\"PR\",\"PR\",\"MG\",\"CE\",\"SP\",\"SP\",\"SP\",\"SP\",\"PR\",\"SP\",\"CE\",\"MG\",\"SC\",\"RS\",\"MG\",\"PI\",\"SP\",\"SP\",\"SP\",\"SP\",\"PR\",\"SP\",\"SP\",\"SC\",\"RS\",\"MT\",\"SP\",\"PR\",\"RS\",\"SP\",\"SP\",\"MG\",\"SP\",\"SP\",\"SP\",\"BA\",\"MG\",\"GO\",\"SP\",\"ES\",\"MG\",\"PB\",\"BA\",\"SP\",\"SC\",\"BA\",\"MS\",\"RS\",\"SC\",\"PR\",\"SP\",\"SP\",\"SP\",\"SP\",\"PR\",\"BA\",\"SP\",\"SP\",\"RS\",\"MT\",\"SC\",\"PE\",\"CE\",\"SC\",\"SP\",\"ES\",\"SP\",\"MG\",\"SP\",\"RS\",\"RS\",\"SP\",\"BA\",\"RS\",\"RS\",\"MG\",\"SP\",\"SP\",\"SC\",\"MG\",\"SC\",\"SP\",\"SC\",\"PR\",\"SP\",\"MT\",\"SC\",\"MG\",\"MG\",\"SP\",\"RS\",\"MT\",\"MG\",\"MG\",\"SP\",\"MG\",\"BA\",\"CE\",\"SP\",\"RS\",\"RS\",\"BA\",\"MG\",\"MG\",\"SP\",\"BA\",\"BA\",\"BA\",\"BA\",\"RJ\",\"RS\",\"MG\",\"RS\",\"RS\",\"MG\",\"RS\",\"RS\",\"RS\",\"MT\",\"PR\",\"SP\",\"RS\",\"RS\",\"MG\",\"MG\",\"GO\",\"SP\",\"BA\",\"MG\",\"ES\",\"GO\",\"MG\",\"GO\",\"RJ\",\"MG\",\"MG\",\"PR\",\"MG\",\"MG\",\"MG\",\"RJ\",\"BA\",\"BA\",\"BA\",\"SC\",\"RS\",\"MG\",\"GO\",\"ES\",\"RS\",\"RS\",\"RS\",\"SC\",\"RS\",\"GO\",\"MG\",\"MG\",\"RS\",\"BA\",\"BA\",\"BA\",\"SP\",\"RJ\",\"SP\",\"RS\",\"SP\",\"RS\",\"RS\",\"RS\",\"RS\",\"RS\",\"MT\",\"MG\",\"SC\",\"RS\",\"PR\",\"GO\",\"SP\",\"SP\",\"PR\",\"PR\",\"PR\",\"RS\",\"RS\",\"SP\",\"MG\",\"SP\",\"MG\",\"BA\",\"SP\",\"GO\",\"PR\",\"PR\",\"PR\",\"PR\",\"PR\",\"PR\",\"PR\",\"PR\",\"PR\",\"PR\",\"PR\",\"PR\",\"PR\",\"PR\",\"PR\",\"PR\",\"MS\",\"PR\",\"PR\",\"PR\",\"MG\",\"PR\",\"PR\",\"PR\",\"PR\",\"MG\",\"SP\",\"MG\",\"PR\",\"PR\",\"PR\",\"PR\",\"MG\",\"MT\",\"SP\",\"PR\",\"SP\",\"MG\",\"SP\",\"PR\"],\"xaxis\":\"x\",\"yaxis\":\"y\",\"type\":\"histogram\"}],                        {\"template\":{\"data\":{\"histogram2dcontour\":[{\"type\":\"histogram2dcontour\",\"colorbar\":{\"outlinewidth\":0,\"ticks\":\"\"},\"colorscale\":[[0.0,\"#0d0887\"],[0.1111111111111111,\"#46039f\"],[0.2222222222222222,\"#7201a8\"],[0.3333333333333333,\"#9c179e\"],[0.4444444444444444,\"#bd3786\"],[0.5555555555555556,\"#d8576b\"],[0.6666666666666666,\"#ed7953\"],[0.7777777777777778,\"#fb9f3a\"],[0.8888888888888888,\"#fdca26\"],[1.0,\"#f0f921\"]]}],\"choropleth\":[{\"type\":\"choropleth\",\"colorbar\":{\"outlinewidth\":0,\"ticks\":\"\"}}],\"histogram2d\":[{\"type\":\"histogram2d\",\"colorbar\":{\"outlinewidth\":0,\"ticks\":\"\"},\"colorscale\":[[0.0,\"#0d0887\"],[0.1111111111111111,\"#46039f\"],[0.2222222222222222,\"#7201a8\"],[0.3333333333333333,\"#9c179e\"],[0.4444444444444444,\"#bd3786\"],[0.5555555555555556,\"#d8576b\"],[0.6666666666666666,\"#ed7953\"],[0.7777777777777778,\"#fb9f3a\"],[0.8888888888888888,\"#fdca26\"],[1.0,\"#f0f921\"]]}],\"heatmap\":[{\"type\":\"heatmap\",\"colorbar\":{\"outlinewidth\":0,\"ticks\":\"\"},\"colorscale\":[[0.0,\"#0d0887\"],[0.1111111111111111,\"#46039f\"],[0.2222222222222222,\"#7201a8\"],[0.3333333333333333,\"#9c179e\"],[0.4444444444444444,\"#bd3786\"],[0.5555555555555556,\"#d8576b\"],[0.6666666666666666,\"#ed7953\"],[0.7777777777777778,\"#fb9f3a\"],[0.8888888888888888,\"#fdca26\"],[1.0,\"#f0f921\"]]}],\"heatmapgl\":[{\"type\":\"heatmapgl\",\"colorbar\":{\"outlinewidth\":0,\"ticks\":\"\"},\"colorscale\":[[0.0,\"#0d0887\"],[0.1111111111111111,\"#46039f\"],[0.2222222222222222,\"#7201a8\"],[0.3333333333333333,\"#9c179e\"],[0.4444444444444444,\"#bd3786\"],[0.5555555555555556,\"#d8576b\"],[0.6666666666666666,\"#ed7953\"],[0.7777777777777778,\"#fb9f3a\"],[0.8888888888888888,\"#fdca26\"],[1.0,\"#f0f921\"]]}],\"contourcarpet\":[{\"type\":\"contourcarpet\",\"colorbar\":{\"outlinewidth\":0,\"ticks\":\"\"}}],\"contour\":[{\"type\":\"contour\",\"colorbar\":{\"outlinewidth\":0,\"ticks\":\"\"},\"colorscale\":[[0.0,\"#0d0887\"],[0.1111111111111111,\"#46039f\"],[0.2222222222222222,\"#7201a8\"],[0.3333333333333333,\"#9c179e\"],[0.4444444444444444,\"#bd3786\"],[0.5555555555555556,\"#d8576b\"],[0.6666666666666666,\"#ed7953\"],[0.7777777777777778,\"#fb9f3a\"],[0.8888888888888888,\"#fdca26\"],[1.0,\"#f0f921\"]]}],\"surface\":[{\"type\":\"surface\",\"colorbar\":{\"outlinewidth\":0,\"ticks\":\"\"},\"colorscale\":[[0.0,\"#0d0887\"],[0.1111111111111111,\"#46039f\"],[0.2222222222222222,\"#7201a8\"],[0.3333333333333333,\"#9c179e\"],[0.4444444444444444,\"#bd3786\"],[0.5555555555555556,\"#d8576b\"],[0.6666666666666666,\"#ed7953\"],[0.7777777777777778,\"#fb9f3a\"],[0.8888888888888888,\"#fdca26\"],[1.0,\"#f0f921\"]]}],\"mesh3d\":[{\"type\":\"mesh3d\",\"colorbar\":{\"outlinewidth\":0,\"ticks\":\"\"}}],\"scatter\":[{\"fillpattern\":{\"fillmode\":\"overlay\",\"size\":10,\"solidity\":0.2},\"type\":\"scatter\"}],\"parcoords\":[{\"type\":\"parcoords\",\"line\":{\"colorbar\":{\"outlinewidth\":0,\"ticks\":\"\"}}}],\"scatterpolargl\":[{\"type\":\"scatterpolargl\",\"marker\":{\"colorbar\":{\"outlinewidth\":0,\"ticks\":\"\"}}}],\"bar\":[{\"error_x\":{\"color\":\"#2a3f5f\"},\"error_y\":{\"color\":\"#2a3f5f\"},\"marker\":{\"line\":{\"color\":\"#E5ECF6\",\"width\":0.5},\"pattern\":{\"fillmode\":\"overlay\",\"size\":10,\"solidity\":0.2}},\"type\":\"bar\"}],\"scattergeo\":[{\"type\":\"scattergeo\",\"marker\":{\"colorbar\":{\"outlinewidth\":0,\"ticks\":\"\"}}}],\"scatterpolar\":[{\"type\":\"scatterpolar\",\"marker\":{\"colorbar\":{\"outlinewidth\":0,\"ticks\":\"\"}}}],\"histogram\":[{\"marker\":{\"pattern\":{\"fillmode\":\"overlay\",\"size\":10,\"solidity\":0.2}},\"type\":\"histogram\"}],\"scattergl\":[{\"type\":\"scattergl\",\"marker\":{\"colorbar\":{\"outlinewidth\":0,\"ticks\":\"\"}}}],\"scatter3d\":[{\"type\":\"scatter3d\",\"line\":{\"colorbar\":{\"outlinewidth\":0,\"ticks\":\"\"}},\"marker\":{\"colorbar\":{\"outlinewidth\":0,\"ticks\":\"\"}}}],\"scattermapbox\":[{\"type\":\"scattermapbox\",\"marker\":{\"colorbar\":{\"outlinewidth\":0,\"ticks\":\"\"}}}],\"scatterternary\":[{\"type\":\"scatterternary\",\"marker\":{\"colorbar\":{\"outlinewidth\":0,\"ticks\":\"\"}}}],\"scattercarpet\":[{\"type\":\"scattercarpet\",\"marker\":{\"colorbar\":{\"outlinewidth\":0,\"ticks\":\"\"}}}],\"carpet\":[{\"aaxis\":{\"endlinecolor\":\"#2a3f5f\",\"gridcolor\":\"white\",\"linecolor\":\"white\",\"minorgridcolor\":\"white\",\"startlinecolor\":\"#2a3f5f\"},\"baxis\":{\"endlinecolor\":\"#2a3f5f\",\"gridcolor\":\"white\",\"linecolor\":\"white\",\"minorgridcolor\":\"white\",\"startlinecolor\":\"#2a3f5f\"},\"type\":\"carpet\"}],\"table\":[{\"cells\":{\"fill\":{\"color\":\"#EBF0F8\"},\"line\":{\"color\":\"white\"}},\"header\":{\"fill\":{\"color\":\"#C8D4E3\"},\"line\":{\"color\":\"white\"}},\"type\":\"table\"}],\"barpolar\":[{\"marker\":{\"line\":{\"color\":\"#E5ECF6\",\"width\":0.5},\"pattern\":{\"fillmode\":\"overlay\",\"size\":10,\"solidity\":0.2}},\"type\":\"barpolar\"}],\"pie\":[{\"automargin\":true,\"type\":\"pie\"}]},\"layout\":{\"autotypenumbers\":\"strict\",\"colorway\":[\"#636efa\",\"#EF553B\",\"#00cc96\",\"#ab63fa\",\"#FFA15A\",\"#19d3f3\",\"#FF6692\",\"#B6E880\",\"#FF97FF\",\"#FECB52\"],\"font\":{\"color\":\"#2a3f5f\"},\"hovermode\":\"closest\",\"hoverlabel\":{\"align\":\"left\"},\"paper_bgcolor\":\"white\",\"plot_bgcolor\":\"#E5ECF6\",\"polar\":{\"bgcolor\":\"#E5ECF6\",\"angularaxis\":{\"gridcolor\":\"white\",\"linecolor\":\"white\",\"ticks\":\"\"},\"radialaxis\":{\"gridcolor\":\"white\",\"linecolor\":\"white\",\"ticks\":\"\"}},\"ternary\":{\"bgcolor\":\"#E5ECF6\",\"aaxis\":{\"gridcolor\":\"white\",\"linecolor\":\"white\",\"ticks\":\"\"},\"baxis\":{\"gridcolor\":\"white\",\"linecolor\":\"white\",\"ticks\":\"\"},\"caxis\":{\"gridcolor\":\"white\",\"linecolor\":\"white\",\"ticks\":\"\"}},\"coloraxis\":{\"colorbar\":{\"outlinewidth\":0,\"ticks\":\"\"}},\"colorscale\":{\"sequential\":[[0.0,\"#0d0887\"],[0.1111111111111111,\"#46039f\"],[0.2222222222222222,\"#7201a8\"],[0.3333333333333333,\"#9c179e\"],[0.4444444444444444,\"#bd3786\"],[0.5555555555555556,\"#d8576b\"],[0.6666666666666666,\"#ed7953\"],[0.7777777777777778,\"#fb9f3a\"],[0.8888888888888888,\"#fdca26\"],[1.0,\"#f0f921\"]],\"sequentialminus\":[[0.0,\"#0d0887\"],[0.1111111111111111,\"#46039f\"],[0.2222222222222222,\"#7201a8\"],[0.3333333333333333,\"#9c179e\"],[0.4444444444444444,\"#bd3786\"],[0.5555555555555556,\"#d8576b\"],[0.6666666666666666,\"#ed7953\"],[0.7777777777777778,\"#fb9f3a\"],[0.8888888888888888,\"#fdca26\"],[1.0,\"#f0f921\"]],\"diverging\":[[0,\"#8e0152\"],[0.1,\"#c51b7d\"],[0.2,\"#de77ae\"],[0.3,\"#f1b6da\"],[0.4,\"#fde0ef\"],[0.5,\"#f7f7f7\"],[0.6,\"#e6f5d0\"],[0.7,\"#b8e186\"],[0.8,\"#7fbc41\"],[0.9,\"#4d9221\"],[1,\"#276419\"]]},\"xaxis\":{\"gridcolor\":\"white\",\"linecolor\":\"white\",\"ticks\":\"\",\"title\":{\"standoff\":15},\"zerolinecolor\":\"white\",\"automargin\":true,\"zerolinewidth\":2},\"yaxis\":{\"gridcolor\":\"white\",\"linecolor\":\"white\",\"ticks\":\"\",\"title\":{\"standoff\":15},\"zerolinecolor\":\"white\",\"automargin\":true,\"zerolinewidth\":2},\"scene\":{\"xaxis\":{\"backgroundcolor\":\"#E5ECF6\",\"gridcolor\":\"white\",\"linecolor\":\"white\",\"showbackground\":true,\"ticks\":\"\",\"zerolinecolor\":\"white\",\"gridwidth\":2},\"yaxis\":{\"backgroundcolor\":\"#E5ECF6\",\"gridcolor\":\"white\",\"linecolor\":\"white\",\"showbackground\":true,\"ticks\":\"\",\"zerolinecolor\":\"white\",\"gridwidth\":2},\"zaxis\":{\"backgroundcolor\":\"#E5ECF6\",\"gridcolor\":\"white\",\"linecolor\":\"white\",\"showbackground\":true,\"ticks\":\"\",\"zerolinecolor\":\"white\",\"gridwidth\":2}},\"shapedefaults\":{\"line\":{\"color\":\"#2a3f5f\"}},\"annotationdefaults\":{\"arrowcolor\":\"#2a3f5f\",\"arrowhead\":0,\"arrowwidth\":1},\"geo\":{\"bgcolor\":\"white\",\"landcolor\":\"#E5ECF6\",\"subunitcolor\":\"white\",\"showland\":true,\"showlakes\":true,\"lakecolor\":\"white\"},\"title\":{\"x\":0.05},\"mapbox\":{\"style\":\"light\"}}},\"xaxis\":{\"anchor\":\"y\",\"domain\":[0.0,1.0],\"title\":{\"text\":\"carta_txt_sigla_uf\"}},\"yaxis\":{\"anchor\":\"x\",\"domain\":[0.0,1.0],\"title\":{\"text\":\"count\"}},\"legend\":{\"tracegroupgap\":0},\"margin\":{\"t\":60},\"barmode\":\"group\"},                        {\"responsive\": true}                    ).then(function(){\n",
       "                            \n",
       "var gd = document.getElementById('951c98c5-0b2a-4e95-815b-dda6a8c2258f');\n",
       "var x = new MutationObserver(function (mutations, observer) {{\n",
       "        var display = window.getComputedStyle(gd).display;\n",
       "        if (!display || display === 'none') {{\n",
       "            console.log([gd, 'removed!']);\n",
       "            Plotly.purge(gd);\n",
       "            observer.disconnect();\n",
       "        }}\n",
       "}});\n",
       "\n",
       "// Listen for the removal of the full notebook cells\n",
       "var notebookContainer = gd.closest('#notebook-container');\n",
       "if (notebookContainer) {{\n",
       "    x.observe(notebookContainer, {childList: true});\n",
       "}}\n",
       "\n",
       "// Listen for the clearing of the current output cell\n",
       "var outputEl = gd.closest('.output');\n",
       "if (outputEl) {{\n",
       "    x.observe(outputEl, {childList: true});\n",
       "}}\n",
       "\n",
       "                        })                };                });            </script>        </div>"
      ]
     },
     "metadata": {},
     "output_type": "display_data"
    }
   ],
   "source": [
    "# considerar o estado de são paulo ?? \n",
    "# pelo volume de obras de saneamento basico \n",
    "\n",
    "fig = px.histogram(dados1, x=\"carta_txt_sigla_uf\", barmode='group')\n",
    "fig.show()"
   ]
  },
  {
   "cell_type": "markdown",
   "metadata": {},
   "source": [
    "## Tratamento dos dados do PNS "
   ]
  },
  {
   "cell_type": "code",
   "execution_count": null,
   "metadata": {},
   "outputs": [],
   "source": [
    "#dados de saude 2022\n",
    "pnsRJ = pd.read_csv()"
   ]
  },
  {
   "cell_type": "code",
   "execution_count": null,
   "metadata": {},
   "outputs": [],
   "source": [
    "#RENOMEANDO AS COLUNAS\n",
    "pnsRJ.rename(columns= {'V0001': 'UF',\n",
    "'V0024': 'Estrato',\n",
    "'UPA_PNS': 'UPA',\n",
    "'V0020': 'Ano',\n",
    "'C006': 'Sexo',\n",
    "'C008': 'Idade',\n",
    "'C009': 'Cor/Raça',\n",
    "'C011': 'Estado Civil',\n",
    "'D001': 'Sabe ler e escrever',\n",
    "'D00201': 'Frequenta escola ou creche',\n",
    "'VDD004A': 'Grau de Instrucao',\n",
    "'VDF004': 'Faixa de rendimento domiciliar',\n",
    "'E01602': 'Qual era o rendimento bruto mensal',\n",
    "'VDM001': 'Faixa de tempo gasto por dia no deslocamento casa-trabalho',\n",
    "'A005010': 'Qual é a principal forma de abastecimento de água deste domicílio',\n",
    "'A00601': 'A água utilizada neste domicílio chega',\n",
    "'A009010': 'A água utilizada para beber neste domicílio é',\n",
    "'A01501': 'Para onde vai o esgoto do banheiro? Ou Para onde vai o esgoto do sanitário ou do buraco para dejeções?',\n",
    "'A016010': 'Qual o (principal) destino dado ao lixo',\n",
    "'B001': 'O seu domicílio está cadastrado na unidade de saúde da família',\n",
    "'B003': 'Nos últimos doze meses, com que frequência o seu domicílio recebeu uma visita de algum Agente Comunitário ou algum membro da Equipe de Saúde da Família?',\n",
    "'B004': 'Nos últimos doze meses, com que frequência o seu domicílio recebeu uma visita de algum agente de endemias (como a dengue, por exemplo)',\n",
    "'I00102':'tem algum plano de saude médico particular, de empresa ou órgão público?',\n",
    "'J01002' :'Quando está doente ou precisando de atendimento de saúde',\n",
    "'J01101': 'Quando consultou um médico pela última vez'}, inplace = True)"
   ]
  },
  {
   "cell_type": "code",
   "execution_count": null,
   "metadata": {},
   "outputs": [],
   "source": [
    "# renomenado os valores dentro do dataframe\n",
    "# cor \n",
    "pnsRJ['Cor/Raça'] = pnsRJ['Cor/Raça'].replace({1: 'branca', \n",
    "                                   2: 'preta',\n",
    "                                   3: 'amarela',\n",
    "                                   4: 'parda',\n",
    "                                   5: 'indigena',\n",
    "                                   9: 'ignorado'})\n",
    "#sexo\n",
    "pnsRJ['Sexo'] = pnsRJ['Sexo'].replace({1: 'Homem', \n",
    "                                   2: 'Mulher'})\n",
    "\n",
    "pnsRJ['Estado Civil'] = pnsRJ['Estado Civil'].replace({\n",
    "1:'Casado(a)',\n",
    "2:'Divorciado(a) ou desquitado(a) ou separado(a) judicialmente',\n",
    "3:'Viúvo(a)',\n",
    "4:'Solteiro(a)',\n",
    "9:'Ignorado'})"
   ]
  }
 ],
 "metadata": {
  "kernelspec": {
   "display_name": "base",
   "language": "python",
   "name": "python3"
  },
  "language_info": {
   "codemirror_mode": {
    "name": "ipython",
    "version": 3
   },
   "file_extension": ".py",
   "mimetype": "text/x-python",
   "name": "python",
   "nbconvert_exporter": "python",
   "pygments_lexer": "ipython3",
   "version": "3.9.13"
  }
 },
 "nbformat": 4,
 "nbformat_minor": 2
}
